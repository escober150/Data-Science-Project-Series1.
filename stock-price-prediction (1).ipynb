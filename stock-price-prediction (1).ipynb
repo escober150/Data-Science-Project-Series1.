{
 "cells": [
  {
   "cell_type": "code",
   "execution_count": 1,
   "id": "61ceaad9",
   "metadata": {
    "_cell_guid": "b1076dfc-b9ad-4769-8c92-a6c4dae69d19",
    "_uuid": "8f2839f25d086af736a60e9eeb907d3b93b6e0e5",
    "execution": {
     "iopub.execute_input": "2024-01-30T12:11:05.466052Z",
     "iopub.status.busy": "2024-01-30T12:11:05.465465Z",
     "iopub.status.idle": "2024-01-30T12:11:06.679094Z",
     "shell.execute_reply": "2024-01-30T12:11:06.676947Z"
    },
    "papermill": {
     "duration": 1.227759,
     "end_time": "2024-01-30T12:11:06.682674",
     "exception": false,
     "start_time": "2024-01-30T12:11:05.454915",
     "status": "completed"
    },
    "tags": []
   },
   "outputs": [],
   "source": [
    "#import neccesary library\n",
    "import numpy as np\n",
    "import pandas as pd\n"
   ]
  },
  {
   "cell_type": "code",
   "execution_count": 2,
   "id": "d355889f",
   "metadata": {
    "execution": {
     "iopub.execute_input": "2024-01-30T12:11:06.704316Z",
     "iopub.status.busy": "2024-01-30T12:11:06.702482Z",
     "iopub.status.idle": "2024-01-30T12:11:11.249413Z",
     "shell.execute_reply": "2024-01-30T12:11:11.248251Z"
    },
    "papermill": {
     "duration": 4.562159,
     "end_time": "2024-01-30T12:11:11.252419",
     "exception": false,
     "start_time": "2024-01-30T12:11:06.690260",
     "status": "completed"
    },
    "tags": []
   },
   "outputs": [
    {
     "data": {
      "text/html": [
       "<div>\n",
       "<style scoped>\n",
       "    .dataframe tbody tr th:only-of-type {\n",
       "        vertical-align: middle;\n",
       "    }\n",
       "\n",
       "    .dataframe tbody tr th {\n",
       "        vertical-align: top;\n",
       "    }\n",
       "\n",
       "    .dataframe thead th {\n",
       "        text-align: right;\n",
       "    }\n",
       "</style>\n",
       "<table border=\"1\" class=\"dataframe\">\n",
       "  <thead>\n",
       "    <tr style=\"text-align: right;\">\n",
       "      <th></th>\n",
       "      <th>date</th>\n",
       "      <th>open</th>\n",
       "      <th>high</th>\n",
       "      <th>low</th>\n",
       "      <th>close</th>\n",
       "      <th>adjclose</th>\n",
       "      <th>volume</th>\n",
       "      <th>ticker</th>\n",
       "      <th>RSIadjclose15</th>\n",
       "      <th>RSIvolume15</th>\n",
       "      <th>...</th>\n",
       "      <th>high-15</th>\n",
       "      <th>K-15</th>\n",
       "      <th>D-15</th>\n",
       "      <th>stochastic-k-15</th>\n",
       "      <th>stochastic-d-15</th>\n",
       "      <th>stochastic-kd-15</th>\n",
       "      <th>volumenrelativo</th>\n",
       "      <th>diff</th>\n",
       "      <th>INCREMENTO</th>\n",
       "      <th>TARGET</th>\n",
       "    </tr>\n",
       "  </thead>\n",
       "  <tbody>\n",
       "    <tr>\n",
       "      <th>0</th>\n",
       "      <td>2022-01-03</td>\n",
       "      <td>17.799999</td>\n",
       "      <td>18.219000</td>\n",
       "      <td>17.500000</td>\n",
       "      <td>17.760000</td>\n",
       "      <td>17.760000</td>\n",
       "      <td>106600</td>\n",
       "      <td>ASLE</td>\n",
       "      <td>NaN</td>\n",
       "      <td>NaN</td>\n",
       "      <td>...</td>\n",
       "      <td>NaN</td>\n",
       "      <td>NaN</td>\n",
       "      <td>NaN</td>\n",
       "      <td>NaN</td>\n",
       "      <td>NaN</td>\n",
       "      <td>NaN</td>\n",
       "      <td>0.919758</td>\n",
       "      <td>-1.900001</td>\n",
       "      <td>-9.664295</td>\n",
       "      <td>0</td>\n",
       "    </tr>\n",
       "    <tr>\n",
       "      <th>1</th>\n",
       "      <td>2022-01-04</td>\n",
       "      <td>17.700001</td>\n",
       "      <td>18.309999</td>\n",
       "      <td>17.620001</td>\n",
       "      <td>17.660000</td>\n",
       "      <td>17.660000</td>\n",
       "      <td>128700</td>\n",
       "      <td>ASLE</td>\n",
       "      <td>NaN</td>\n",
       "      <td>NaN</td>\n",
       "      <td>...</td>\n",
       "      <td>NaN</td>\n",
       "      <td>NaN</td>\n",
       "      <td>NaN</td>\n",
       "      <td>NaN</td>\n",
       "      <td>NaN</td>\n",
       "      <td>NaN</td>\n",
       "      <td>1.110440</td>\n",
       "      <td>-1.379999</td>\n",
       "      <td>-7.247895</td>\n",
       "      <td>0</td>\n",
       "    </tr>\n",
       "    <tr>\n",
       "      <th>2</th>\n",
       "      <td>2022-01-05</td>\n",
       "      <td>17.580000</td>\n",
       "      <td>17.799999</td>\n",
       "      <td>16.910000</td>\n",
       "      <td>16.950001</td>\n",
       "      <td>16.950001</td>\n",
       "      <td>103100</td>\n",
       "      <td>ASLE</td>\n",
       "      <td>NaN</td>\n",
       "      <td>NaN</td>\n",
       "      <td>...</td>\n",
       "      <td>NaN</td>\n",
       "      <td>NaN</td>\n",
       "      <td>NaN</td>\n",
       "      <td>NaN</td>\n",
       "      <td>NaN</td>\n",
       "      <td>NaN</td>\n",
       "      <td>0.889560</td>\n",
       "      <td>-0.930000</td>\n",
       "      <td>-5.201344</td>\n",
       "      <td>0</td>\n",
       "    </tr>\n",
       "    <tr>\n",
       "      <th>3</th>\n",
       "      <td>2022-01-06</td>\n",
       "      <td>16.650000</td>\n",
       "      <td>16.879999</td>\n",
       "      <td>16.139999</td>\n",
       "      <td>16.170000</td>\n",
       "      <td>16.170000</td>\n",
       "      <td>173600</td>\n",
       "      <td>ASLE</td>\n",
       "      <td>NaN</td>\n",
       "      <td>NaN</td>\n",
       "      <td>...</td>\n",
       "      <td>NaN</td>\n",
       "      <td>NaN</td>\n",
       "      <td>NaN</td>\n",
       "      <td>NaN</td>\n",
       "      <td>NaN</td>\n",
       "      <td>NaN</td>\n",
       "      <td>1.497843</td>\n",
       "      <td>-0.360000</td>\n",
       "      <td>-2.177856</td>\n",
       "      <td>0</td>\n",
       "    </tr>\n",
       "    <tr>\n",
       "      <th>4</th>\n",
       "      <td>2022-01-07</td>\n",
       "      <td>16.219999</td>\n",
       "      <td>16.290001</td>\n",
       "      <td>15.630000</td>\n",
       "      <td>15.710000</td>\n",
       "      <td>15.710000</td>\n",
       "      <td>137800</td>\n",
       "      <td>ASLE</td>\n",
       "      <td>NaN</td>\n",
       "      <td>NaN</td>\n",
       "      <td>...</td>\n",
       "      <td>NaN</td>\n",
       "      <td>NaN</td>\n",
       "      <td>NaN</td>\n",
       "      <td>NaN</td>\n",
       "      <td>NaN</td>\n",
       "      <td>NaN</td>\n",
       "      <td>1.188956</td>\n",
       "      <td>-0.120000</td>\n",
       "      <td>-0.758054</td>\n",
       "      <td>0</td>\n",
       "    </tr>\n",
       "  </tbody>\n",
       "</table>\n",
       "<p>5 rows × 1285 columns</p>\n",
       "</div>"
      ],
      "text/plain": [
       "         date       open       high        low      close   adjclose  volume  \\\n",
       "0  2022-01-03  17.799999  18.219000  17.500000  17.760000  17.760000  106600   \n",
       "1  2022-01-04  17.700001  18.309999  17.620001  17.660000  17.660000  128700   \n",
       "2  2022-01-05  17.580000  17.799999  16.910000  16.950001  16.950001  103100   \n",
       "3  2022-01-06  16.650000  16.879999  16.139999  16.170000  16.170000  173600   \n",
       "4  2022-01-07  16.219999  16.290001  15.630000  15.710000  15.710000  137800   \n",
       "\n",
       "  ticker  RSIadjclose15  RSIvolume15  ...  high-15  K-15  D-15  \\\n",
       "0   ASLE            NaN          NaN  ...      NaN   NaN   NaN   \n",
       "1   ASLE            NaN          NaN  ...      NaN   NaN   NaN   \n",
       "2   ASLE            NaN          NaN  ...      NaN   NaN   NaN   \n",
       "3   ASLE            NaN          NaN  ...      NaN   NaN   NaN   \n",
       "4   ASLE            NaN          NaN  ...      NaN   NaN   NaN   \n",
       "\n",
       "   stochastic-k-15  stochastic-d-15  stochastic-kd-15  volumenrelativo  \\\n",
       "0              NaN              NaN               NaN         0.919758   \n",
       "1              NaN              NaN               NaN         1.110440   \n",
       "2              NaN              NaN               NaN         0.889560   \n",
       "3              NaN              NaN               NaN         1.497843   \n",
       "4              NaN              NaN               NaN         1.188956   \n",
       "\n",
       "       diff  INCREMENTO  TARGET  \n",
       "0 -1.900001   -9.664295       0  \n",
       "1 -1.379999   -7.247895       0  \n",
       "2 -0.930000   -5.201344       0  \n",
       "3 -0.360000   -2.177856       0  \n",
       "4 -0.120000   -0.758054       0  \n",
       "\n",
       "[5 rows x 1285 columns]"
      ]
     },
     "execution_count": 2,
     "metadata": {},
     "output_type": "execute_result"
    }
   ],
   "source": [
    "#load the data \n",
    "df=pd.read_csv('/kaggle/input/stock-market-prediction/infolimpioavanzadoTarget.csv')\n",
    "df.head()\n"
   ]
  },
  {
   "cell_type": "code",
   "execution_count": 3,
   "id": "8b8abcca",
   "metadata": {
    "execution": {
     "iopub.execute_input": "2024-01-30T12:11:11.270365Z",
     "iopub.status.busy": "2024-01-30T12:11:11.269257Z",
     "iopub.status.idle": "2024-01-30T12:11:11.349655Z",
     "shell.execute_reply": "2024-01-30T12:11:11.347809Z"
    },
    "papermill": {
     "duration": 0.092762,
     "end_time": "2024-01-30T12:11:11.352927",
     "exception": false,
     "start_time": "2024-01-30T12:11:11.260165",
     "status": "completed"
    },
    "tags": []
   },
   "outputs": [
    {
     "name": "stdout",
     "output_type": "stream",
     "text": [
      "<class 'pandas.core.frame.DataFrame'>\n",
      "RangeIndex: 7781 entries, 0 to 7780\n",
      "Columns: 1285 entries, date to TARGET\n",
      "dtypes: float64(1280), int64(3), object(2)\n",
      "memory usage: 76.3+ MB\n"
     ]
    }
   ],
   "source": [
    "df.info()"
   ]
  },
  {
   "cell_type": "code",
   "execution_count": 4,
   "id": "a77757a5",
   "metadata": {
    "execution": {
     "iopub.execute_input": "2024-01-30T12:11:11.370841Z",
     "iopub.status.busy": "2024-01-30T12:11:11.370332Z",
     "iopub.status.idle": "2024-01-30T12:11:11.400566Z",
     "shell.execute_reply": "2024-01-30T12:11:11.399565Z"
    },
    "papermill": {
     "duration": 0.042106,
     "end_time": "2024-01-30T12:11:11.403002",
     "exception": false,
     "start_time": "2024-01-30T12:11:11.360896",
     "status": "completed"
    },
    "tags": []
   },
   "outputs": [
    {
     "data": {
      "text/html": [
       "<div>\n",
       "<style scoped>\n",
       "    .dataframe tbody tr th:only-of-type {\n",
       "        vertical-align: middle;\n",
       "    }\n",
       "\n",
       "    .dataframe tbody tr th {\n",
       "        vertical-align: top;\n",
       "    }\n",
       "\n",
       "    .dataframe thead th {\n",
       "        text-align: right;\n",
       "    }\n",
       "</style>\n",
       "<table border=\"1\" class=\"dataframe\">\n",
       "  <thead>\n",
       "    <tr style=\"text-align: right;\">\n",
       "      <th></th>\n",
       "      <th>date</th>\n",
       "      <th>open</th>\n",
       "      <th>high</th>\n",
       "      <th>low</th>\n",
       "      <th>close</th>\n",
       "      <th>adjclose</th>\n",
       "      <th>volume</th>\n",
       "      <th>ticker</th>\n",
       "      <th>RSIadjclose15</th>\n",
       "      <th>RSIvolume15</th>\n",
       "      <th>...</th>\n",
       "      <th>high-15</th>\n",
       "      <th>K-15</th>\n",
       "      <th>D-15</th>\n",
       "      <th>stochastic-k-15</th>\n",
       "      <th>stochastic-d-15</th>\n",
       "      <th>stochastic-kd-15</th>\n",
       "      <th>volumenrelativo</th>\n",
       "      <th>diff</th>\n",
       "      <th>INCREMENTO</th>\n",
       "      <th>TARGET</th>\n",
       "    </tr>\n",
       "  </thead>\n",
       "  <tbody>\n",
       "    <tr>\n",
       "      <th>0</th>\n",
       "      <td>2022-01-03</td>\n",
       "      <td>17.799999</td>\n",
       "      <td>18.219000</td>\n",
       "      <td>17.500000</td>\n",
       "      <td>17.760000</td>\n",
       "      <td>17.760000</td>\n",
       "      <td>106600</td>\n",
       "      <td>ASLE</td>\n",
       "      <td>NaN</td>\n",
       "      <td>NaN</td>\n",
       "      <td>...</td>\n",
       "      <td>NaN</td>\n",
       "      <td>NaN</td>\n",
       "      <td>NaN</td>\n",
       "      <td>NaN</td>\n",
       "      <td>NaN</td>\n",
       "      <td>NaN</td>\n",
       "      <td>0.919758</td>\n",
       "      <td>-1.900001</td>\n",
       "      <td>-9.664295</td>\n",
       "      <td>0</td>\n",
       "    </tr>\n",
       "    <tr>\n",
       "      <th>1</th>\n",
       "      <td>2022-01-04</td>\n",
       "      <td>17.700001</td>\n",
       "      <td>18.309999</td>\n",
       "      <td>17.620001</td>\n",
       "      <td>17.660000</td>\n",
       "      <td>17.660000</td>\n",
       "      <td>128700</td>\n",
       "      <td>ASLE</td>\n",
       "      <td>NaN</td>\n",
       "      <td>NaN</td>\n",
       "      <td>...</td>\n",
       "      <td>NaN</td>\n",
       "      <td>NaN</td>\n",
       "      <td>NaN</td>\n",
       "      <td>NaN</td>\n",
       "      <td>NaN</td>\n",
       "      <td>NaN</td>\n",
       "      <td>1.110440</td>\n",
       "      <td>-1.379999</td>\n",
       "      <td>-7.247895</td>\n",
       "      <td>0</td>\n",
       "    </tr>\n",
       "    <tr>\n",
       "      <th>2</th>\n",
       "      <td>2022-01-05</td>\n",
       "      <td>17.580000</td>\n",
       "      <td>17.799999</td>\n",
       "      <td>16.910000</td>\n",
       "      <td>16.950001</td>\n",
       "      <td>16.950001</td>\n",
       "      <td>103100</td>\n",
       "      <td>ASLE</td>\n",
       "      <td>NaN</td>\n",
       "      <td>NaN</td>\n",
       "      <td>...</td>\n",
       "      <td>NaN</td>\n",
       "      <td>NaN</td>\n",
       "      <td>NaN</td>\n",
       "      <td>NaN</td>\n",
       "      <td>NaN</td>\n",
       "      <td>NaN</td>\n",
       "      <td>0.889560</td>\n",
       "      <td>-0.930000</td>\n",
       "      <td>-5.201344</td>\n",
       "      <td>0</td>\n",
       "    </tr>\n",
       "    <tr>\n",
       "      <th>3</th>\n",
       "      <td>2022-01-06</td>\n",
       "      <td>16.650000</td>\n",
       "      <td>16.879999</td>\n",
       "      <td>16.139999</td>\n",
       "      <td>16.170000</td>\n",
       "      <td>16.170000</td>\n",
       "      <td>173600</td>\n",
       "      <td>ASLE</td>\n",
       "      <td>NaN</td>\n",
       "      <td>NaN</td>\n",
       "      <td>...</td>\n",
       "      <td>NaN</td>\n",
       "      <td>NaN</td>\n",
       "      <td>NaN</td>\n",
       "      <td>NaN</td>\n",
       "      <td>NaN</td>\n",
       "      <td>NaN</td>\n",
       "      <td>1.497843</td>\n",
       "      <td>-0.360000</td>\n",
       "      <td>-2.177856</td>\n",
       "      <td>0</td>\n",
       "    </tr>\n",
       "    <tr>\n",
       "      <th>4</th>\n",
       "      <td>2022-01-07</td>\n",
       "      <td>16.219999</td>\n",
       "      <td>16.290001</td>\n",
       "      <td>15.630000</td>\n",
       "      <td>15.710000</td>\n",
       "      <td>15.710000</td>\n",
       "      <td>137800</td>\n",
       "      <td>ASLE</td>\n",
       "      <td>NaN</td>\n",
       "      <td>NaN</td>\n",
       "      <td>...</td>\n",
       "      <td>NaN</td>\n",
       "      <td>NaN</td>\n",
       "      <td>NaN</td>\n",
       "      <td>NaN</td>\n",
       "      <td>NaN</td>\n",
       "      <td>NaN</td>\n",
       "      <td>1.188956</td>\n",
       "      <td>-0.120000</td>\n",
       "      <td>-0.758054</td>\n",
       "      <td>0</td>\n",
       "    </tr>\n",
       "  </tbody>\n",
       "</table>\n",
       "<p>5 rows × 1285 columns</p>\n",
       "</div>"
      ],
      "text/plain": [
       "         date       open       high        low      close   adjclose  volume  \\\n",
       "0  2022-01-03  17.799999  18.219000  17.500000  17.760000  17.760000  106600   \n",
       "1  2022-01-04  17.700001  18.309999  17.620001  17.660000  17.660000  128700   \n",
       "2  2022-01-05  17.580000  17.799999  16.910000  16.950001  16.950001  103100   \n",
       "3  2022-01-06  16.650000  16.879999  16.139999  16.170000  16.170000  173600   \n",
       "4  2022-01-07  16.219999  16.290001  15.630000  15.710000  15.710000  137800   \n",
       "\n",
       "  ticker  RSIadjclose15  RSIvolume15  ...  high-15  K-15  D-15  \\\n",
       "0   ASLE            NaN          NaN  ...      NaN   NaN   NaN   \n",
       "1   ASLE            NaN          NaN  ...      NaN   NaN   NaN   \n",
       "2   ASLE            NaN          NaN  ...      NaN   NaN   NaN   \n",
       "3   ASLE            NaN          NaN  ...      NaN   NaN   NaN   \n",
       "4   ASLE            NaN          NaN  ...      NaN   NaN   NaN   \n",
       "\n",
       "   stochastic-k-15  stochastic-d-15  stochastic-kd-15  volumenrelativo  \\\n",
       "0              NaN              NaN               NaN         0.919758   \n",
       "1              NaN              NaN               NaN         1.110440   \n",
       "2              NaN              NaN               NaN         0.889560   \n",
       "3              NaN              NaN               NaN         1.497843   \n",
       "4              NaN              NaN               NaN         1.188956   \n",
       "\n",
       "       diff  INCREMENTO  TARGET  \n",
       "0 -1.900001   -9.664295       0  \n",
       "1 -1.379999   -7.247895       0  \n",
       "2 -0.930000   -5.201344       0  \n",
       "3 -0.360000   -2.177856       0  \n",
       "4 -0.120000   -0.758054       0  \n",
       "\n",
       "[5 rows x 1285 columns]"
      ]
     },
     "execution_count": 4,
     "metadata": {},
     "output_type": "execute_result"
    }
   ],
   "source": [
    "df.head(5)"
   ]
  },
  {
   "cell_type": "code",
   "execution_count": 5,
   "id": "2f826132",
   "metadata": {
    "execution": {
     "iopub.execute_input": "2024-01-30T12:11:11.422448Z",
     "iopub.status.busy": "2024-01-30T12:11:11.421824Z",
     "iopub.status.idle": "2024-01-30T12:11:11.451625Z",
     "shell.execute_reply": "2024-01-30T12:11:11.450504Z"
    },
    "papermill": {
     "duration": 0.042891,
     "end_time": "2024-01-30T12:11:11.454239",
     "exception": false,
     "start_time": "2024-01-30T12:11:11.411348",
     "status": "completed"
    },
    "tags": []
   },
   "outputs": [
    {
     "data": {
      "text/plain": [
       "date                  0\n",
       "open                  0\n",
       "high                  0\n",
       "low                   0\n",
       "close                 0\n",
       "                   ... \n",
       "stochastic-kd-15    587\n",
       "volumenrelativo     215\n",
       "diff                155\n",
       "INCREMENTO          155\n",
       "TARGET                0\n",
       "Length: 1285, dtype: int64"
      ]
     },
     "execution_count": 5,
     "metadata": {},
     "output_type": "execute_result"
    }
   ],
   "source": [
    "df.isnull().sum()"
   ]
  },
  {
   "cell_type": "code",
   "execution_count": 6,
   "id": "9ee441f8",
   "metadata": {
    "execution": {
     "iopub.execute_input": "2024-01-30T12:11:11.473199Z",
     "iopub.status.busy": "2024-01-30T12:11:11.472796Z",
     "iopub.status.idle": "2024-01-30T12:11:11.492286Z",
     "shell.execute_reply": "2024-01-30T12:11:11.490815Z"
    },
    "papermill": {
     "duration": 0.032293,
     "end_time": "2024-01-30T12:11:11.495230",
     "exception": false,
     "start_time": "2024-01-30T12:11:11.462937",
     "status": "completed"
    },
    "tags": []
   },
   "outputs": [
    {
     "data": {
      "text/html": [
       "<div>\n",
       "<style scoped>\n",
       "    .dataframe tbody tr th:only-of-type {\n",
       "        vertical-align: middle;\n",
       "    }\n",
       "\n",
       "    .dataframe tbody tr th {\n",
       "        vertical-align: top;\n",
       "    }\n",
       "\n",
       "    .dataframe thead th {\n",
       "        text-align: right;\n",
       "    }\n",
       "</style>\n",
       "<table border=\"1\" class=\"dataframe\">\n",
       "  <thead>\n",
       "    <tr style=\"text-align: right;\">\n",
       "      <th></th>\n",
       "      <th>date</th>\n",
       "      <th>open</th>\n",
       "      <th>high</th>\n",
       "      <th>low</th>\n",
       "      <th>close</th>\n",
       "      <th>volume</th>\n",
       "    </tr>\n",
       "  </thead>\n",
       "  <tbody>\n",
       "    <tr>\n",
       "      <th>0</th>\n",
       "      <td>2022-01-03</td>\n",
       "      <td>17.799999</td>\n",
       "      <td>18.219000</td>\n",
       "      <td>17.500000</td>\n",
       "      <td>17.760000</td>\n",
       "      <td>106600</td>\n",
       "    </tr>\n",
       "    <tr>\n",
       "      <th>1</th>\n",
       "      <td>2022-01-04</td>\n",
       "      <td>17.700001</td>\n",
       "      <td>18.309999</td>\n",
       "      <td>17.620001</td>\n",
       "      <td>17.660000</td>\n",
       "      <td>128700</td>\n",
       "    </tr>\n",
       "    <tr>\n",
       "      <th>2</th>\n",
       "      <td>2022-01-05</td>\n",
       "      <td>17.580000</td>\n",
       "      <td>17.799999</td>\n",
       "      <td>16.910000</td>\n",
       "      <td>16.950001</td>\n",
       "      <td>103100</td>\n",
       "    </tr>\n",
       "    <tr>\n",
       "      <th>3</th>\n",
       "      <td>2022-01-06</td>\n",
       "      <td>16.650000</td>\n",
       "      <td>16.879999</td>\n",
       "      <td>16.139999</td>\n",
       "      <td>16.170000</td>\n",
       "      <td>173600</td>\n",
       "    </tr>\n",
       "    <tr>\n",
       "      <th>4</th>\n",
       "      <td>2022-01-07</td>\n",
       "      <td>16.219999</td>\n",
       "      <td>16.290001</td>\n",
       "      <td>15.630000</td>\n",
       "      <td>15.710000</td>\n",
       "      <td>137800</td>\n",
       "    </tr>\n",
       "  </tbody>\n",
       "</table>\n",
       "</div>"
      ],
      "text/plain": [
       "         date       open       high        low      close  volume\n",
       "0  2022-01-03  17.799999  18.219000  17.500000  17.760000  106600\n",
       "1  2022-01-04  17.700001  18.309999  17.620001  17.660000  128700\n",
       "2  2022-01-05  17.580000  17.799999  16.910000  16.950001  103100\n",
       "3  2022-01-06  16.650000  16.879999  16.139999  16.170000  173600\n",
       "4  2022-01-07  16.219999  16.290001  15.630000  15.710000  137800"
      ]
     },
     "execution_count": 6,
     "metadata": {},
     "output_type": "execute_result"
    }
   ],
   "source": [
    "new_df=df[['date','open', 'high', 'low', 'close','volume']]\n",
    "new_df.head()\n"
   ]
  },
  {
   "cell_type": "code",
   "execution_count": 7,
   "id": "11407fdf",
   "metadata": {
    "execution": {
     "iopub.execute_input": "2024-01-30T12:11:11.515776Z",
     "iopub.status.busy": "2024-01-30T12:11:11.515352Z",
     "iopub.status.idle": "2024-01-30T12:11:11.526639Z",
     "shell.execute_reply": "2024-01-30T12:11:11.525322Z"
    },
    "papermill": {
     "duration": 0.025291,
     "end_time": "2024-01-30T12:11:11.529350",
     "exception": false,
     "start_time": "2024-01-30T12:11:11.504059",
     "status": "completed"
    },
    "tags": []
   },
   "outputs": [
    {
     "data": {
      "text/plain": [
       "date      0\n",
       "open      0\n",
       "high      0\n",
       "low       0\n",
       "close     0\n",
       "volume    0\n",
       "dtype: int64"
      ]
     },
     "execution_count": 7,
     "metadata": {},
     "output_type": "execute_result"
    }
   ],
   "source": [
    "new_df.isnull().sum()"
   ]
  },
  {
   "cell_type": "code",
   "execution_count": 8,
   "id": "e336fc4d",
   "metadata": {
    "execution": {
     "iopub.execute_input": "2024-01-30T12:11:11.549437Z",
     "iopub.status.busy": "2024-01-30T12:11:11.549035Z",
     "iopub.status.idle": "2024-01-30T12:11:11.564913Z",
     "shell.execute_reply": "2024-01-30T12:11:11.563711Z"
    },
    "papermill": {
     "duration": 0.029367,
     "end_time": "2024-01-30T12:11:11.567553",
     "exception": false,
     "start_time": "2024-01-30T12:11:11.538186",
     "status": "completed"
    },
    "tags": []
   },
   "outputs": [
    {
     "data": {
      "text/plain": [
       "0"
      ]
     },
     "execution_count": 8,
     "metadata": {},
     "output_type": "execute_result"
    }
   ],
   "source": [
    "new_df.duplicated().sum()"
   ]
  },
  {
   "cell_type": "code",
   "execution_count": 9,
   "id": "d5540225",
   "metadata": {
    "execution": {
     "iopub.execute_input": "2024-01-30T12:11:11.587566Z",
     "iopub.status.busy": "2024-01-30T12:11:11.587190Z",
     "iopub.status.idle": "2024-01-30T12:11:13.347274Z",
     "shell.execute_reply": "2024-01-30T12:11:13.346097Z"
    },
    "papermill": {
     "duration": 1.773542,
     "end_time": "2024-01-30T12:11:13.350094",
     "exception": false,
     "start_time": "2024-01-30T12:11:11.576552",
     "status": "completed"
    },
    "tags": []
   },
   "outputs": [],
   "source": [
    "from matplotlib import pyplot as plt\n",
    "import plotly.graph_objects as go\n",
    "from  sklearn import  metrics \n",
    "from sklearn.model_selection import train_test_split\n"
   ]
  },
  {
   "cell_type": "code",
   "execution_count": 10,
   "id": "a5a886a4",
   "metadata": {
    "execution": {
     "iopub.execute_input": "2024-01-30T12:11:13.371800Z",
     "iopub.status.busy": "2024-01-30T12:11:13.370895Z",
     "iopub.status.idle": "2024-01-30T12:11:13.802463Z",
     "shell.execute_reply": "2024-01-30T12:11:13.800966Z"
    },
    "papermill": {
     "duration": 0.445928,
     "end_time": "2024-01-30T12:11:13.805480",
     "exception": false,
     "start_time": "2024-01-30T12:11:13.359552",
     "status": "completed"
    },
    "tags": []
   },
   "outputs": [
    {
     "data": {
      "text/plain": [
       "(array([-1000.,     0.,  1000.,  2000.,  3000.,  4000.,  5000.,  6000.,\n",
       "         7000.,  8000.,  9000.]),\n",
       " [Text(-1000.0, 0, '2022-01-07'),\n",
       "  Text(0.0, 0, '2022-01-03'),\n",
       "  Text(1000.0, 0, '2022-12-27'),\n",
       "  Text(2000.0, 0, '2022-12-20'),\n",
       "  Text(3000.0, 0, '2022-12-14'),\n",
       "  Text(4000.0, 0, '2022-12-08'),\n",
       "  Text(5000.0, 0, '2022-12-02'),\n",
       "  Text(6000.0, 0, '2022-11-28'),\n",
       "  Text(7000.0, 0, '2022-11-21'),\n",
       "  Text(8000.0, 0, ''),\n",
       "  Text(9000.0, 0, '')])"
      ]
     },
     "execution_count": 10,
     "metadata": {},
     "output_type": "execute_result"
    },
    {
     "data": {
      "image/png": "[encoded data removed]",
      "text/plain": [
       "<Figure size 640x480 with 1 Axes>"
      ]
     },
     "metadata": {},
     "output_type": "display_data"
    }
   ],
   "source": [
    "new_df.plot(x='date',y='close')\n",
    "plt.xticks(rotation=45)"
   ]
  },
  {
   "cell_type": "code",
   "execution_count": 11,
   "id": "76d28b72",
   "metadata": {
    "execution": {
     "iopub.execute_input": "2024-01-30T12:11:13.827638Z",
     "iopub.status.busy": "2024-01-30T12:11:13.827214Z",
     "iopub.status.idle": "2024-01-30T12:11:13.838521Z",
     "shell.execute_reply": "2024-01-30T12:11:13.837391Z"
    },
    "papermill": {
     "duration": 0.025646,
     "end_time": "2024-01-30T12:11:13.841304",
     "exception": false,
     "start_time": "2024-01-30T12:11:13.815658",
     "status": "completed"
    },
    "tags": []
   },
   "outputs": [],
   "source": [
    "x=new_df[['open','high','low','volume']]\n",
    "y=new_df['close']\n",
    "x_train, x_test, y_train, y_test=train_test_split(x,y, random_state=42)"
   ]
  },
  {
   "cell_type": "code",
   "execution_count": 12,
   "id": "a3aee210",
   "metadata": {
    "execution": {
     "iopub.execute_input": "2024-01-30T12:11:13.864300Z",
     "iopub.status.busy": "2024-01-30T12:11:13.863895Z",
     "iopub.status.idle": "2024-01-30T12:11:13.998336Z",
     "shell.execute_reply": "2024-01-30T12:11:13.996965Z"
    },
    "papermill": {
     "duration": 0.149314,
     "end_time": "2024-01-30T12:11:14.001258",
     "exception": false,
     "start_time": "2024-01-30T12:11:13.851944",
     "status": "completed"
    },
    "tags": []
   },
   "outputs": [],
   "source": [
    "from sklearn.linear_model import LinearRegression\n",
    "from sklearn.metrics import confusion_matrix,accuracy_score\n",
    "linear_regressor=LinearRegression()"
   ]
  },
  {
   "cell_type": "code",
   "execution_count": 13,
   "id": "928aa77a",
   "metadata": {
    "execution": {
     "iopub.execute_input": "2024-01-30T12:11:14.023126Z",
     "iopub.status.busy": "2024-01-30T12:11:14.022629Z",
     "iopub.status.idle": "2024-01-30T12:11:14.066012Z",
     "shell.execute_reply": "2024-01-30T12:11:14.064333Z"
    },
    "papermill": {
     "duration": 0.058127,
     "end_time": "2024-01-30T12:11:14.069208",
     "exception": false,
     "start_time": "2024-01-30T12:11:14.011081",
     "status": "completed"
    },
    "tags": []
   },
   "outputs": [
    {
     "data": {
      "text/html": [
       "<style>#sk-container-id-1 {color: black;background-color: white;}#sk-container-id-1 pre{padding: 0;}#sk-container-id-1 div.sk-toggleable {background-color: white;}#sk-container-id-1 label.sk-toggleable__label {cursor: pointer;display: block;width: 100%;margin-bottom: 0;padding: 0.3em;box-sizing: border-box;text-align: center;}#sk-container-id-1 label.sk-toggleable__label-arrow:before {content: \"▸\";float: left;margin-right: 0.25em;color: #696969;}#sk-container-id-1 label.sk-toggleable__label-arrow:hover:before {color: black;}#sk-container-id-1 div.sk-estimator:hover label.sk-toggleable__label-arrow:before {color: black;}#sk-container-id-1 div.sk-toggleable__content {max-height: 0;max-width: 0;overflow: hidden;text-align: left;background-color: #f0f8ff;}#sk-container-id-1 div.sk-toggleable__content pre {margin: 0.2em;color: black;border-radius: 0.25em;background-color: #f0f8ff;}#sk-container-id-1 input.sk-toggleable__control:checked~div.sk-toggleable__content {max-height: 200px;max-width: 100%;overflow: auto;}#sk-container-id-1 input.sk-toggleable__control:checked~label.sk-toggleable__label-arrow:before {content: \"▾\";}#sk-container-id-1 div.sk-estimator input.sk-toggleable__control:checked~label.sk-toggleable__label {background-color: #d4ebff;}#sk-container-id-1 div.sk-label input.sk-toggleable__control:checked~label.sk-toggleable__label {background-color: #d4ebff;}#sk-container-id-1 input.sk-hidden--visually {border: 0;clip: rect(1px 1px 1px 1px);clip: rect(1px, 1px, 1px, 1px);height: 1px;margin: -1px;overflow: hidden;padding: 0;position: absolute;width: 1px;}#sk-container-id-1 div.sk-estimator {font-family: monospace;background-color: #f0f8ff;border: 1px dotted black;border-radius: 0.25em;box-sizing: border-box;margin-bottom: 0.5em;}#sk-container-id-1 div.sk-estimator:hover {background-color: #d4ebff;}#sk-container-id-1 div.sk-parallel-item::after {content: \"\";width: 100%;border-bottom: 1px solid gray;flex-grow: 1;}#sk-container-id-1 div.sk-label:hover label.sk-toggleable__label {background-color: #d4ebff;}#sk-container-id-1 div.sk-serial::before {content: \"\";position: absolute;border-left: 1px solid gray;box-sizing: border-box;top: 0;bottom: 0;left: 50%;z-index: 0;}#sk-container-id-1 div.sk-serial {display: flex;flex-direction: column;align-items: center;background-color: white;padding-right: 0.2em;padding-left: 0.2em;position: relative;}#sk-container-id-1 div.sk-item {position: relative;z-index: 1;}#sk-container-id-1 div.sk-parallel {display: flex;align-items: stretch;justify-content: center;background-color: white;position: relative;}#sk-container-id-1 div.sk-item::before, #sk-container-id-1 div.sk-parallel-item::before {content: \"\";position: absolute;border-left: 1px solid gray;box-sizing: border-box;top: 0;bottom: 0;left: 50%;z-index: -1;}#sk-container-id-1 div.sk-parallel-item {display: flex;flex-direction: column;z-index: 1;position: relative;background-color: white;}#sk-container-id-1 div.sk-parallel-item:first-child::after {align-self: flex-end;width: 50%;}#sk-container-id-1 div.sk-parallel-item:last-child::after {align-self: flex-start;width: 50%;}#sk-container-id-1 div.sk-parallel-item:only-child::after {width: 0;}#sk-container-id-1 div.sk-dashed-wrapped {border: 1px dashed gray;margin: 0 0.4em 0.5em 0.4em;box-sizing: border-box;padding-bottom: 0.4em;background-color: white;}#sk-container-id-1 div.sk-label label {font-family: monospace;font-weight: bold;display: inline-block;line-height: 1.2em;}#sk-container-id-1 div.sk-label-container {text-align: center;}#sk-container-id-1 div.sk-container {/* jupyter's `normalize.less` sets `[hidden] { display: none; }` but bootstrap.min.css set `[hidden] { display: none !important; }` so we also need the `!important` here to be able to override the default hidden behavior on the sphinx rendered scikit-learn.org. See: https://github.com/scikit-learn/scikit-learn/issues/21755 */display: inline-block !important;position: relative;}#sk-container-id-1 div.sk-text-repr-fallback {display: none;}</style><div id=\"sk-container-id-1\" class=\"sk-top-container\"><div class=\"sk-text-repr-fallback\"><pre>LinearRegression()</pre><b>In a Jupyter environment, please rerun this cell to show the HTML representation or trust the notebook. <br />On GitHub, the HTML representation is unable to render, please try loading this page with nbviewer.org.</b></div><div class=\"sk-container\" hidden><div class=\"sk-item\"><div class=\"sk-estimator sk-toggleable\"><input class=\"sk-toggleable__control sk-hidden--visually\" id=\"sk-estimator-id-1\" type=\"checkbox\" checked><label for=\"sk-estimator-id-1\" class=\"sk-toggleable__label sk-toggleable__label-arrow\">LinearRegression</label><div class=\"sk-toggleable__content\"><pre>LinearRegression()</pre></div></div></div></div></div>"
      ],
      "text/plain": [
       "LinearRegression()"
      ]
     },
     "execution_count": 13,
     "metadata": {},
     "output_type": "execute_result"
    }
   ],
   "source": [
    "linear_regressor.fit(x_train,y_train)"
   ]
  },
  {
   "cell_type": "code",
   "execution_count": 14,
   "id": "b9d8622f",
   "metadata": {
    "execution": {
     "iopub.execute_input": "2024-01-30T12:11:14.091654Z",
     "iopub.status.busy": "2024-01-30T12:11:14.091224Z",
     "iopub.status.idle": "2024-01-30T12:11:14.099117Z",
     "shell.execute_reply": "2024-01-30T12:11:14.097652Z"
    },
    "papermill": {
     "duration": 0.022873,
     "end_time": "2024-01-30T12:11:14.102387",
     "exception": false,
     "start_time": "2024-01-30T12:11:14.079514",
     "status": "completed"
    },
    "tags": []
   },
   "outputs": [
    {
     "name": "stdout",
     "output_type": "stream",
     "text": [
      "[-7.02417156e-01  8.46474979e-01  8.56798588e-01  1.00940145e-10]\n",
      "-0.030948465006282788\n"
     ]
    }
   ],
   "source": [
    "#weights for each component and intercept as in y=a1x1+a2x2+a3x3+a4x4+b\n",
    "print(linear_regressor.coef_)\n",
    "print(linear_regressor.intercept_)"
   ]
  },
  {
   "cell_type": "code",
   "execution_count": 15,
   "id": "c2ec3142",
   "metadata": {
    "execution": {
     "iopub.execute_input": "2024-01-30T12:11:14.126103Z",
     "iopub.status.busy": "2024-01-30T12:11:14.125567Z",
     "iopub.status.idle": "2024-01-30T12:11:14.132884Z",
     "shell.execute_reply": "2024-01-30T12:11:14.131848Z"
    },
    "papermill": {
     "duration": 0.022747,
     "end_time": "2024-01-30T12:11:14.136656",
     "exception": false,
     "start_time": "2024-01-30T12:11:14.113909",
     "status": "completed"
    },
    "tags": []
   },
   "outputs": [],
   "source": [
    "#storing the predicted values\n",
    "predicted_values=linear_regressor.predict(x_test)"
   ]
  },
  {
   "cell_type": "code",
   "execution_count": 16,
   "id": "c1d4ee45",
   "metadata": {
    "execution": {
     "iopub.execute_input": "2024-01-30T12:11:14.160573Z",
     "iopub.status.busy": "2024-01-30T12:11:14.160047Z",
     "iopub.status.idle": "2024-01-30T12:11:14.171372Z",
     "shell.execute_reply": "2024-01-30T12:11:14.170073Z"
    },
    "papermill": {
     "duration": 0.027058,
     "end_time": "2024-01-30T12:11:14.174260",
     "exception": false,
     "start_time": "2024-01-30T12:11:14.147202",
     "status": "completed"
    },
    "tags": []
   },
   "outputs": [
    {
     "name": "stdout",
     "output_type": "stream",
     "text": [
      "      Actual Price  Predicted Price\n",
      "7677     22.190001        22.117302\n",
      "1926     10.100000        10.077702\n",
      "2280      2.550000         2.478514\n",
      "2333      2.620000         2.618350\n",
      "101      14.110000        14.134236\n",
      "...            ...              ...\n",
      "3787      5.450000         5.487277\n",
      "7502     22.417000        22.213087\n",
      "1183    107.570000       106.163061\n",
      "5899      3.390000         3.391885\n",
      "7138     24.040001        23.660624\n",
      "\n",
      "[1946 rows x 2 columns]\n"
     ]
    }
   ],
   "source": [
    "difference_df=pd.DataFrame({'Actual Price':y_test,'Predicted Price':predicted_values})\n",
    "print(difference_df)"
   ]
  },
  {
   "cell_type": "code",
   "execution_count": 17,
   "id": "7138c71a",
   "metadata": {
    "execution": {
     "iopub.execute_input": "2024-01-30T12:11:14.197993Z",
     "iopub.status.busy": "2024-01-30T12:11:14.197436Z",
     "iopub.status.idle": "2024-01-30T12:11:14.209040Z",
     "shell.execute_reply": "2024-01-30T12:11:14.207657Z"
    },
    "papermill": {
     "duration": 0.028067,
     "end_time": "2024-01-30T12:11:14.212559",
     "exception": false,
     "start_time": "2024-01-30T12:11:14.184492",
     "status": "completed"
    },
    "tags": []
   },
   "outputs": [
    {
     "data": {
      "text/plain": [
       "0.9998811498763057"
      ]
     },
     "execution_count": 17,
     "metadata": {},
     "output_type": "execute_result"
    }
   ],
   "source": [
    "linear_regressor.score(x_test,y_test)"
   ]
  },
  {
   "cell_type": "code",
   "execution_count": 18,
   "id": "fa4586d4",
   "metadata": {
    "execution": {
     "iopub.execute_input": "2024-01-30T12:11:14.236155Z",
     "iopub.status.busy": "2024-01-30T12:11:14.235655Z",
     "iopub.status.idle": "2024-01-30T12:11:14.244863Z",
     "shell.execute_reply": "2024-01-30T12:11:14.243608Z"
    },
    "papermill": {
     "duration": 0.024959,
     "end_time": "2024-01-30T12:11:14.248186",
     "exception": false,
     "start_time": "2024-01-30T12:11:14.223227",
     "status": "completed"
    },
    "tags": []
   },
   "outputs": [
    {
     "data": {
      "text/plain": [
       "0.9620553189130236"
      ]
     },
     "execution_count": 18,
     "metadata": {},
     "output_type": "execute_result"
    }
   ],
   "source": [
    "metrics.mean_squared_error(y_test,predicted_values)"
   ]
  },
  {
   "cell_type": "code",
   "execution_count": 19,
   "id": "c0b51114",
   "metadata": {
    "execution": {
     "iopub.execute_input": "2024-01-30T12:11:14.273259Z",
     "iopub.status.busy": "2024-01-30T12:11:14.272827Z",
     "iopub.status.idle": "2024-01-30T12:11:14.279162Z",
     "shell.execute_reply": "2024-01-30T12:11:14.277533Z"
    },
    "papermill": {
     "duration": 0.022684,
     "end_time": "2024-01-30T12:11:14.282534",
     "exception": false,
     "start_time": "2024-01-30T12:11:14.259850",
     "status": "completed"
    },
    "tags": []
   },
   "outputs": [],
   "source": [
    "graph=difference_df.head(30)"
   ]
  },
  {
   "cell_type": "code",
   "execution_count": 20,
   "id": "bedea134",
   "metadata": {
    "execution": {
     "iopub.execute_input": "2024-01-30T12:11:14.307684Z",
     "iopub.status.busy": "2024-01-30T12:11:14.307233Z",
     "iopub.status.idle": "2024-01-30T12:11:14.952036Z",
     "shell.execute_reply": "2024-01-30T12:11:14.950381Z"
    },
    "papermill": {
     "duration": 0.659612,
     "end_time": "2024-01-30T12:11:14.954712",
     "exception": false,
     "start_time": "2024-01-30T12:11:14.295100",
     "status": "completed"
    },
    "tags": []
   },
   "outputs": [
    {
     "data": {
      "text/plain": [
       "<Axes: >"
      ]
     },
     "execution_count": 20,
     "metadata": {},
     "output_type": "execute_result"
    },
    {
     "data": {
      "image/png": "[encoded data removed]",
      "text/plain": [
       "<Figure size 640x480 with 1 Axes>"
      ]
     },
     "metadata": {},
     "output_type": "display_data"
    }
   ],
   "source": [
    "graph.plot(kind=\"bar\")"
   ]
  }
 ],
 "metadata": {
  "kaggle": {
   "accelerator": "none",
   "dataSources": [
    {
     "datasetId": 1792171,
     "sourceId": 6320309,
     "sourceType": "datasetVersion"
    }
   ],
   "dockerImageVersionId": 30635,
   "isGpuEnabled": false,
   "isInternetEnabled": true,
   "language": "python",
   "sourceType": "notebook"
  },
  "kernelspec": {
   "display_name": "Python 3",
   "language": "python",
   "name": "python3"
  },
  "language_info": {
   "codemirror_mode": {
    "name": "ipython",
    "version": 3
   },
   "file_extension": ".py",
   "mimetype": "text/x-python",
   "name": "python",
   "nbconvert_exporter": "python",
   "pygments_lexer": "ipython3",
   "version": "3.10.12"
  },
  "papermill": {
   "default_parameters": {},
   "duration": 15.189097,
   "end_time": "2024-01-30T12:11:15.691822",
   "environment_variables": {},
   "exception": null,
   "input_path": "__notebook__.ipynb",
   "output_path": "__notebook__.ipynb",
   "parameters": {},
   "start_time": "2024-01-30T12:11:00.502725",
   "version": "2.4.0"
  }
 },
 "nbformat": 4,
 "nbformat_minor": 5
}
